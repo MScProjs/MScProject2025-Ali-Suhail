{
 "cells": [
  {
   "cell_type": "markdown",
   "id": "ee52eec7",
   "metadata": {},
   "source": [
    "# Libraries"
   ]
  },
  {
   "cell_type": "code",
   "execution_count": 2,
   "id": "49a6c05e",
   "metadata": {},
   "outputs": [],
   "source": [
    "import csv\n",
    "import pandas as pd\n",
    "import numpy as np\n",
    "\n",
    "import matplotlib.pyplot as plt\n",
    "import seaborn as sns"
   ]
  },
  {
   "cell_type": "markdown",
   "id": "c1ec19f2",
   "metadata": {},
   "source": [
    "# Import Datasets"
   ]
  },
  {
   "cell_type": "code",
   "execution_count": null,
   "id": "a6c0dbb5",
   "metadata": {},
   "outputs": [],
   "source": [
    "assessments = pd.read_csv(r'..\\..\\anonymisedData\\assessments.csv')\n",
    "courses = pd.read_csv(r'..\\..\\anonymisedData\\courses.csv')\n",
    "studentAssessment = pd.read_csv(r'..\\..\\anonymisedData\\studentAssessment.csv')\n",
    "studentInfo = pd.read_csv(r'..\\..\\anonymisedData\\studentInfo.csv')\n",
    "studentRegistration = pd.read_csv(r'..\\..\\anonymisedData\\studentRegistration.csv')\n",
    "studentVle = pd.read_csv(r'..\\..\\anonymisedData\\studentVle.csv')\n",
    "vle = pd.read_csv(r'..\\..\\anonymisedData\\vle.csv')\n",
    "\n",
    "# assessments\n",
    "# courses\n",
    "# studentAssessment\n",
    "# studentInfo\n",
    "# studentRegistration\n",
    "# studentVle\n",
    "# vle"
   ]
  },
  {
   "cell_type": "code",
   "execution_count": 16,
   "id": "e1430699",
   "metadata": {},
   "outputs": [],
   "source": [
    "# assessments\n",
    "# courses\n",
    "# studentAssessment\n",
    "# studentInfo\n",
    "# studentRegistration\n",
    "# studentVle\n",
    "# vle"
   ]
  }
 ],
 "metadata": {
  "kernelspec": {
   "display_name": "base",
   "language": "python",
   "name": "python3"
  },
  "language_info": {
   "codemirror_mode": {
    "name": "ipython",
    "version": 3
   },
   "file_extension": ".py",
   "mimetype": "text/x-python",
   "name": "python",
   "nbconvert_exporter": "python",
   "pygments_lexer": "ipython3",
   "version": "3.12.7"
  }
 },
 "nbformat": 4,
 "nbformat_minor": 5
}
